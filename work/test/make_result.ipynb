{
 "cells": [
  {
   "cell_type": "code",
   "execution_count": 2,
   "id": "65969931-74f7-4c1a-b117-431866269a06",
   "metadata": {},
   "outputs": [],
   "source": [
    "import json\n",
    "import csv"
   ]
  },
  {
   "cell_type": "markdown",
   "id": "8dd611a0-7bcc-4f3d-a668-99d3515d9f86",
   "metadata": {},
   "source": [
    "## データの読み込み"
   ]
  },
  {
   "cell_type": "code",
   "execution_count": 3,
   "id": "3194e8e3-e688-461a-88c7-b77109beab22",
   "metadata": {},
   "outputs": [],
   "source": [
    "with open(\"./predict.json\",mode=\"r\") as f:\n",
    "    predicts = f.readlines()\n",
    "for i in range(len(predicts)):\n",
    "    predicts[i] = json.loads(predicts[i])\n",
    "\n",
    "with open(\"../data/discriptions_for_test.csv\",mode=\"r\") as f:\n",
    "    discriptions = f.readlines()\n",
    "for i in range(len(discriptions)):\n",
    "    discriptions[i] = discriptions[i].split(\",\")\n",
    "    discriptions[i][1] = discriptions[i][1].split(\" \")"
   ]
  },
  {
   "cell_type": "markdown",
   "id": "b47255a8-de4d-4e30-aaf1-e30e8207b06a",
   "metadata": {},
   "source": [
    "## データの整形"
   ]
  },
  {
   "cell_type": "code",
   "execution_count": 4,
   "id": "d2632f30-2c3b-4fe6-ba8c-c301b6ac4c05",
   "metadata": {},
   "outputs": [],
   "source": [
    "for i, (discription, predict) in enumerate(zip(discriptions, predicts)):\n",
    "    target_words = []\n",
    "    for word, tag in zip(discription[1], predict[\"tags\"]):\n",
    "        if int(tag):\n",
    "            target_words.append(word)\n",
    "    discription[2] = \" \".join(target_words)\n",
    "    discription[1] = \" \".join(discription[1])"
   ]
  },
  {
   "cell_type": "markdown",
   "id": "7065f870-5851-4dbc-a4da-b839bcd8e657",
   "metadata": {},
   "source": [
    "## 保存"
   ]
  },
  {
   "cell_type": "code",
   "execution_count": 5,
   "id": "057897e4-5bf4-4b4d-9e8f-2b6e75f83465",
   "metadata": {},
   "outputs": [],
   "source": [
    "with open('./discriptions_for_test_result.csv', 'w') as f:\n",
    "    writer = csv.writer(f)\n",
    "    writer.writerows(discriptions)"
   ]
  }
 ],
 "metadata": {
  "kernelspec": {
   "display_name": "Python 3 (ipykernel)",
   "language": "python",
   "name": "python3"
  },
  "language_info": {
   "codemirror_mode": {
    "name": "ipython",
    "version": 3
   },
   "file_extension": ".py",
   "mimetype": "text/x-python",
   "name": "python",
   "nbconvert_exporter": "python",
   "pygments_lexer": "ipython3",
   "version": "3.7.4"
  }
 },
 "nbformat": 4,
 "nbformat_minor": 5
}
