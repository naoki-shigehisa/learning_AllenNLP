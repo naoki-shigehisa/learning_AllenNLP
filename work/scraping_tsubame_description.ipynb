{
 "cells": [
  {
   "cell_type": "code",
   "execution_count": 1,
   "id": "bf881020-1447-4f1f-aed8-86c59f2f9607",
   "metadata": {},
   "outputs": [],
   "source": [
    "import os\n",
    "import requests\n",
    "from bs4 import BeautifulSoup\n",
    "import time\n",
    "from tqdm import tqdm\n",
    "import MeCab\n",
    "\n",
    "os.environ['MECABRC'] = \"/etc/mecabrc\""
   ]
  },
  {
   "cell_type": "markdown",
   "id": "928cfc79-da63-4484-b667-6e2098b29a65",
   "metadata": {},
   "source": [
    "## 企業URLの生成"
   ]
  },
  {
   "cell_type": "code",
   "execution_count": 9,
   "id": "c13c5078-3a49-4d82-80f4-10f70cbe465b",
   "metadata": {},
   "outputs": [],
   "source": [
    "urls = []\n",
    "for i in range(0,1990):\n",
    "    urls.append(\"https://webdb.tsjiba.or.jp/main/company/\" + \"{:08}\".format(i) + \"/show\")"
   ]
  },
  {
   "cell_type": "markdown",
   "id": "f9a1ae87-c087-4d51-a571-c24008768435",
   "metadata": {},
   "source": [
    "## descriptionタグの取得"
   ]
  },
  {
   "cell_type": "code",
   "execution_count": 10,
   "id": "a577e8b8-0135-417b-9c08-9fce98ec4b3a",
   "metadata": {},
   "outputs": [
    {
     "name": "stderr",
     "output_type": "stream",
     "text": [
      "100%|██████████| 1990/1990 [1:50:49<00:00,  3.34s/it]\n"
     ]
    }
   ],
   "source": [
    "descriptions = {}\n",
    "for url in tqdm(urls):\n",
    "    response = requests.get(url)\n",
    "    soup = BeautifulSoup(response.text, 'html.parser')\n",
    "    title = soup.find('title').get_text()\n",
    "    if title != \"燕三条ものづくり企業ナビ\":\n",
    "        description = soup.find('meta', {'name' : 'description'})['content']\n",
    "        descriptions[url] = description\n",
    "    time.sleep(3)"
   ]
  },
  {
   "cell_type": "markdown",
   "id": "0b163565-4560-48bd-8ea0-285a54a806ca",
   "metadata": {},
   "source": [
    "## データの保存"
   ]
  },
  {
   "cell_type": "code",
   "execution_count": 14,
   "id": "adadd769-0ccb-4211-9ebf-729457842646",
   "metadata": {},
   "outputs": [],
   "source": [
    "import pickle\n",
    "with open('data/tsubame_discriptions.pickle', 'wb') as f:\n",
    "    pickle.dump(descriptions, f)"
   ]
  },
  {
   "cell_type": "code",
   "execution_count": 15,
   "id": "34ae9f34-2035-432f-ab1b-502fef8e9ef7",
   "metadata": {},
   "outputs": [
    {
     "data": {
      "text/plain": [
       "755"
      ]
     },
     "execution_count": 15,
     "metadata": {},
     "output_type": "execute_result"
    }
   ],
   "source": [
    "len(descriptions)"
   ]
  },
  {
   "cell_type": "markdown",
   "id": "6469d70d-389c-4666-80d5-2b80a83bfe67",
   "metadata": {},
   "source": [
    "## データの読み込み"
   ]
  },
  {
   "cell_type": "code",
   "execution_count": 2,
   "id": "aece2c9c-deba-4f1e-930b-b73cae2656b7",
   "metadata": {},
   "outputs": [],
   "source": [
    "import pickle\n",
    "import csv\n",
    "import itertools\n",
    "with open('data/tsubame_discriptions.pickle', 'rb') as f:\n",
    "    descriptions = pickle.load(f)\n",
    "with open(\"./data/base_wrods.pickle\", \"rb\") as f:\n",
    "    base_words = pickle.load(f)\n",
    "base_word_list = [base_word[0] for base_word in base_words]\n",
    "with open(\"./data/including_base_words.pickle\", \"rb\") as f:\n",
    "    including_base_words = pickle.load(f)\n",
    "including_base_word_list = list(itertools.chain.from_iterable(including_base_words.values()))"
   ]
  },
  {
   "cell_type": "markdown",
   "id": "f112fa81-8026-415a-a880-437b7866c3d6",
   "metadata": {},
   "source": [
    "## アノテーションデータの作成"
   ]
  },
  {
   "cell_type": "code",
   "execution_count": 3,
   "id": "61e15101-e0fe-41b5-b2e8-34246488da1b",
   "metadata": {},
   "outputs": [],
   "source": [
    "# 文章をスペース区切りに変換\n",
    "def get_text_splited_by_space(sentence):\n",
    "    tagger = MeCab.Tagger()\n",
    "    parsed_sentence = tagger.parse(sentence)\n",
    "    \n",
    "    word_list = parsed_sentence.split(\"\\n\")\n",
    "    text_splited_by_space = \"\"\n",
    "    for word in word_list:\n",
    "        organized_info = {}\n",
    "        \n",
    "        word = word.split(\"\\t\")\n",
    "        if word[0] == \"EOS\":\n",
    "            break\n",
    "        text_splited_by_space += word[0] + \" \" \n",
    "        \n",
    "    return text_splited_by_space[:-1]"
   ]
  },
  {
   "cell_type": "code",
   "execution_count": 4,
   "id": "12304eed-9fe7-4120-9dc1-e884b6cdbfa7",
   "metadata": {},
   "outputs": [],
   "source": [
    "anotation_data = []\n",
    "for key in descriptions.keys():\n",
    "    labels = \"\"\n",
    "    if descriptions[key] == \"\":\n",
    "        continue\n",
    "    text_splited_by_space = get_text_splited_by_space(descriptions[key].replace(\"\\r\", \"\").replace(\",\", \"，\").replace(\"　\", \"\"))\n",
    "    for word in text_splited_by_space.split(\" \"):\n",
    "        if word in base_word_list:\n",
    "            labels += \"1 \"\n",
    "        else:\n",
    "            labels += \"0 \"\n",
    "    anotation_data.append([key, text_splited_by_space, labels[:-1]])"
   ]
  },
  {
   "cell_type": "code",
   "execution_count": 5,
   "id": "9f25e2b8-2b66-4eae-a22b-de2fe8721adc",
   "metadata": {},
   "outputs": [
    {
     "data": {
      "text/plain": [
       "[['https://webdb.tsjiba.or.jp/main/company/00000002/show',\n",
       "  'フェザー 安全 剃刀 （株） ・ ミキモト 装身具 （株） の OEM 生産 を し て いる 。 鋳造 技術 を 生かし 高級 金銀 製品 の 製造 ・ 研磨 仕上 や 極小 品 の 製造 を 得意 と する 。',\n",
       "  '0 0 0 0 0 0 0 0 0 0 1 0 0 0 0 0 1 0 0 0 0 0 1 0 0 0 1 0 0 0 0 0 0 0 0 0 0 0'],\n",
       " ['https://webdb.tsjiba.or.jp/main/company/00000003/show',\n",
       "  '創業 ９ ０ 年 以上 の 老舗 企業 として 、 高 精度 を 求め られる 機械 加工 部品 、 発電 、 化学 プラント で 使用 さ れる 高水準 の ボルト ナット の 製造 を 得意 と し て おり ます 。 機械 加工 部品 で は 、 電力 、 プラント 、 ...',\n",
       "  '0 0 0 0 0 0 0 0 0 0 0 0 0 0 0 0 1 1 0 0 0 0 0 0 0 0 0 0 0 0 0 0 0 0 0 0 0 0 0 0 0 0 1 1 0 0 0 0 0 0 0 0'],\n",
       " ['https://webdb.tsjiba.or.jp/main/company/00000004/show',\n",
       "  '小型 精密 部品 の プレス 加工 ・ 高 精度 の 金 型 製造 。 材料 仕入れ から 完成 品 の 梱包 ・ 出荷 まで 一貫 体制 。 特に SUS 材 について は 研磨 仕上げ ・ スポット 溶接 ・ アッ センブリ まで 行う 。',\n",
       "  '0 0 1 0 1 1 0 0 0 0 0 0 0 0 0 0 0 0 0 0 0 0 0 0 0 0 0 0 1 0 0 0 1 0 0 0 1 0 0 0 0 0 0'],\n",
       " ['https://webdb.tsjiba.or.jp/main/company/00000005/show',\n",
       "  'SUS 材 の 深 絞り 加工 を 得意 と し て い ます 。 金 型 に SKD 材 を 使う こと で 超 硬 合金 ・ フェロチック・ 表面 硬化 処理 等 に 比べ 金 型 費 を 抑え 、 さらに 絞り 加工 に 特 化 し た 設備 で 安定 し た 絞り 加工 を 実現 し て ...',\n",
       "  '1 0 0 0 0 1 0 0 0 0 0 0 0 0 0 0 0 0 0 0 0 0 0 0 0 0 0 0 0 0 0 0 0 0 0 0 0 0 0 0 0 0 1 0 0 0 0 0 0 0 0 0 0 0 1 0 0 0 0 0'],\n",
       " ['https://webdb.tsjiba.or.jp/main/company/00000006/show',\n",
       "  'クリーン ルーム が 実現 さ せる 高 品質 美粧 塗装 が 得意 です 。 金属 塗装 、 プラスチック の 精密 塗装 の スペシャリスト 集団 です 。',\n",
       "  '0 0 0 0 0 0 0 0 0 1 0 0 0 0 0 1 0 0 0 0 1 0 0 0 0 0']]"
      ]
     },
     "execution_count": 5,
     "metadata": {},
     "output_type": "execute_result"
    }
   ],
   "source": [
    "anotation_data[:5]"
   ]
  },
  {
   "cell_type": "markdown",
   "id": "715e02f5-c59f-412d-aeb9-6db6216659b5",
   "metadata": {},
   "source": [
    "## データの整形と保存"
   ]
  },
  {
   "cell_type": "code",
   "execution_count": 6,
   "id": "fdb44886-382c-471c-bf13-2ec107c79411",
   "metadata": {},
   "outputs": [],
   "source": [
    "with open('data/anotated_tsubame_discriptions_for_train.csv', 'w') as f:\n",
    "    writer = csv.writer(f)\n",
    "    writer.writerows(anotation_data)"
   ]
  }
 ],
 "metadata": {
  "kernelspec": {
   "display_name": "Python 3 (ipykernel)",
   "language": "python",
   "name": "python3"
  },
  "language_info": {
   "codemirror_mode": {
    "name": "ipython",
    "version": 3
   },
   "file_extension": ".py",
   "mimetype": "text/x-python",
   "name": "python",
   "nbconvert_exporter": "python",
   "pygments_lexer": "ipython3",
   "version": "3.7.4"
  }
 },
 "nbformat": 4,
 "nbformat_minor": 5
}
